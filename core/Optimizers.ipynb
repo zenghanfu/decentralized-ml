{
 "cells": [
  {
   "cell_type": "code",
   "execution_count": 27,
   "metadata": {},
   "outputs": [],
   "source": [
    "import os, sys, inspect, io\n",
    "\n",
    "cmd_folder = os.path.realpath(\n",
    "    os.path.dirname(\n",
    "        os.path.abspath(os.path.split(inspect.getfile( inspect.currentframe() ))[0])))\n",
    "\n",
    "if cmd_folder not in sys.path:\n",
    "    sys.path.insert(0, cmd_folder)\n",
    "    \n",
    "from transitions import *\n",
    "from transitions.extensions import GraphMachine\n",
    "from IPython.display import Image, display, display_png\n",
    "from queue import Queue\n",
    "\n",
    "class Optimizer(object):\n",
    "    q_in = Queue()\n",
    "    q_out = Queue()\n",
    "    \n",
    "    def do_work(self, item):\n",
    "        return item + 5\n",
    "    \n",
    "    def on_enter_training(self):\n",
    "        item = self.q_in.get()\n",
    "        self.q_out.put(self.do_work(item))\n",
    "        self.q_in.task_done()\n",
    "        self.trained()\n",
    "        \n",
    "    def on_exit_training(self):\n",
    "        item = self.q_out.get()\n",
    "        print(\"result of training {}\".format(item))\n",
    "        \n",
    "    def on_enter_listening(self):\n",
    "        self.q_in.put(1)\n",
    "        self.heard()\n",
    "        \n",
    "    def is_valid(self):\n",
    "        return True\n",
    "    \n",
    "    def is_not_valid(self):\n",
    "        return False\n",
    "    \n",
    "    def is_also_valid(self):\n",
    "        return True\n",
    "    \n",
    "    # graph object is created by the machine\n",
    "    def show_graph(self, **kwargs):\n",
    "        stream = io.BytesIO()\n",
    "        self.get_graph(**kwargs).draw(stream, prog='dot', format='png')\n",
    "        display(Image(stream.getvalue()))"
   ]
  },
  {
   "cell_type": "code",
   "execution_count": 28,
   "metadata": {},
   "outputs": [
    {
     "data": {
      "text/plain": [
       "'broadcasting'"
      ]
     },
     "execution_count": 28,
     "metadata": {},
     "output_type": "execute_result"
    }
   ],
   "source": [
    "transitions = [\n",
    "    { 'trigger': 'work_done', 'source': ['training', 'averaging'], 'dest': 'broadcasting' },\n",
    "    { 'trigger': 'sent', 'source': 'broadcasting', 'dest': 'listening', 'conditions':'is_valid' },\n",
    "    { 'trigger': 'heard', 'source': 'listening', 'dest': 'training', 'unless':'is_not_valid' }\n",
    "#     { 'trigger': 'averaged', 'source': 'averaging', 'dest': 'broadcasting',\n",
    "#       'conditions':['is_valid','is_also_valid'] }\n",
    "]\n",
    "states=['training', 'broadcasting', 'listening', 'averaging']\n",
    "\n",
    "model = Optimizer()\n",
    "machine = Machine(model=model, \n",
    "                       states=states, \n",
    "                       transitions=transitions,\n",
    "                       initial='broadcasting')\n",
    "model.state"
   ]
  },
  {
   "cell_type": "code",
   "execution_count": null,
   "metadata": {},
   "outputs": [],
   "source": []
  },
  {
   "cell_type": "code",
   "execution_count": 5,
   "metadata": {},
   "outputs": [],
   "source": [
    "class FederatedAveragingOptimizer(Machine):\n",
    "    q_in = Queue()\n",
    "    q_out = Queue()\n",
    "    \n",
    "    def do_work(self, item):\n",
    "        return item + 5\n",
    "    \n",
    "    def on_enter_training(self):\n",
    "        item = self.q_in.get()\n",
    "        self.q_out.put(self.do_work(item))\n",
    "        self.q_in.task_done()\n",
    "        self.work_done()\n",
    "        \n",
    "    def on_exit_training(self):\n",
    "        item = self.q_out.get()\n",
    "        print(\"result of training {}\".format(item))\n",
    "        \n",
    "    def on_enter_listening(self):\n",
    "        self.q_in.put(1)\n",
    "        self.heard()\n",
    "        \n",
    "    def is_valid(self):\n",
    "        return True\n",
    "    \n",
    "    def is_not_valid(self):\n",
    "        return False\n",
    "    \n",
    "    def is_also_valid(self):\n",
    "        return True\n",
    "    \n",
    "    def __init__(self):\n",
    "        transitions = [\n",
    "        { 'trigger': 'work_done', 'source': ['training', 'averaging'], 'dest': 'broadcasting' },\n",
    "        { 'trigger': 'sent', 'source': 'broadcasting', 'dest': 'listening', 'conditions':'is_valid' },\n",
    "        { 'trigger': 'heard', 'source': 'listening', 'dest': 'training', 'unless':'is_not_valid' }\n",
    "        #     { 'trigger': 'averaged', 'source': 'averaging', 'dest': 'broadcasting',\n",
    "        #       'conditions':['is_valid','is_also_valid'] }\n",
    "        ]\n",
    "        states=['training', 'broadcasting', 'listening', 'averaging']\n",
    "        Machine.__init__(self, states=states, transitions=transitions, initial='broadcasting')\n",
    "        "
   ]
  },
  {
   "cell_type": "code",
   "execution_count": 6,
   "metadata": {},
   "outputs": [
    {
     "name": "stdout",
     "output_type": "stream",
     "text": [
      "result of training 6\n"
     ]
    },
    {
     "data": {
      "text/plain": [
       "True"
      ]
     },
     "execution_count": 6,
     "metadata": {},
     "output_type": "execute_result"
    }
   ],
   "source": [
    "fedavg = FederatedAveragingOptimizer()\n",
    "fedavg.state\n",
    "fedavg.sent()"
   ]
  },
  {
   "cell_type": "code",
   "execution_count": 25,
   "metadata": {},
   "outputs": [],
   "source": [
    "class P2POptimizer(Machine):\n",
    "    \n",
    "    def do_averaging(self, event):\n",
    "        self.neural_network += 'trained'\n",
    "        print(self.neural_network)\n",
    "        \n",
    "    def get_model_with_addr(self, model_addr):\n",
    "        return \"hello im a model\"\n",
    "    \n",
    "    def on_enter_training(self, event):\n",
    "        model_addr = event.kwargs.get('model_addr')\n",
    "        self.neural_network = self.get_model_with_addr(model_addr)\n",
    "        print(self.model)\n",
    "        \n",
    "    def on_exit_training(self, event):\n",
    "        print(\"result of training {}\".format(self.neural_network))\n",
    "        \n",
    "    def is_valid(self, event):\n",
    "        return True\n",
    "    \n",
    "    def time_elapsed(self, event):\n",
    "        return self.time >= self.time_threshold\n",
    "    \n",
    "    def is_also_valid(self):\n",
    "        return True\n",
    "    \n",
    "    \n",
    "    def __init__(self):\n",
    "        self.time = 0\n",
    "        self.time_threshold = 2\n",
    "        self.neural_network = False\n",
    "        transitions = [\n",
    "        { 'trigger': 'trained', 'source': 'training', 'dest': 'broadcasting'},\n",
    "        { 'trigger': 'averaged', 'source': 'averaging', 'dest': 'training' },\n",
    "        { 'trigger': 'sent', 'source': 'broadcasting', 'dest': 'listening', 'conditions':'is_valid' },\n",
    "        { 'trigger': 'heard', 'source': 'listening', 'dest': 'averaging', 'conditions':'time_elapsed', 'after':'do_averaging' }\n",
    "        #     { 'trigger': 'averaged', 'source': 'averaging', 'dest': 'broadcasting',\n",
    "        #       'conditions':['is_valid','is_also_valid'] }\n",
    "        ]\n",
    "        states=['listening', 'averaging', 'training', 'broadcasting']\n",
    "        Machine.__init__(self, states=states, transitions=transitions, send_event=True, initial='broadcasting')"
   ]
  },
  {
   "cell_type": "code",
   "execution_count": 26,
   "metadata": {},
   "outputs": [
    {
     "data": {
      "text/plain": [
       "False"
      ]
     },
     "execution_count": 26,
     "metadata": {},
     "output_type": "execute_result"
    }
   ],
   "source": [
    "fclyr = P2POptimizer()\n",
    "fclyr.sent()\n",
    "fclyr.heard(model_addr='0xabc123')"
   ]
  },
  {
   "cell_type": "code",
   "execution_count": null,
   "metadata": {},
   "outputs": [],
   "source": []
  }
 ],
 "metadata": {
  "kernelspec": {
   "display_name": "Python 3",
   "language": "python",
   "name": "python3"
  },
  "language_info": {
   "codemirror_mode": {
    "name": "ipython",
    "version": 3
   },
   "file_extension": ".py",
   "mimetype": "text/x-python",
   "name": "python",
   "nbconvert_exporter": "python",
   "pygments_lexer": "ipython3",
   "version": "3.6.4"
  }
 },
 "nbformat": 4,
 "nbformat_minor": 2
}
