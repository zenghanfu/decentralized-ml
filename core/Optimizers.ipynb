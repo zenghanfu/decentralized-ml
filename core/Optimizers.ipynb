{
 "cells": [
  {
   "cell_type": "code",
   "execution_count": 8,
   "metadata": {},
   "outputs": [
    {
     "ename": "ImportError",
     "evalue": "cannot import name 'Queue'",
     "output_type": "error",
     "traceback": [
      "\u001b[0;31m---------------------------------------------------------------------\u001b[0m",
      "\u001b[0;31mImportError\u001b[0m                         Traceback (most recent call last)",
      "\u001b[0;32m<ipython-input-8-bfc847f16811>\u001b[0m in \u001b[0;36m<module>\u001b[0;34m()\u001b[0m\n\u001b[1;32m      9\u001b[0m \u001b[0;34m\u001b[0m\u001b[0m\n\u001b[1;32m     10\u001b[0m \u001b[0;32mfrom\u001b[0m \u001b[0mtransitions\u001b[0m \u001b[0;32mimport\u001b[0m \u001b[0;34m*\u001b[0m\u001b[0;34m\u001b[0m\u001b[0m\n\u001b[0;32m---> 11\u001b[0;31m \u001b[0;32mfrom\u001b[0m \u001b[0mcollections\u001b[0m \u001b[0;32mimport\u001b[0m \u001b[0mQueue\u001b[0m\u001b[0;34m\u001b[0m\u001b[0m\n\u001b[0m\u001b[1;32m     12\u001b[0m \u001b[0;32mclass\u001b[0m \u001b[0mOptimizer\u001b[0m\u001b[0;34m(\u001b[0m\u001b[0mobject\u001b[0m\u001b[0;34m)\u001b[0m\u001b[0;34m:\u001b[0m\u001b[0;34m\u001b[0m\u001b[0m\n\u001b[1;32m     13\u001b[0m     \u001b[0mq_in\u001b[0m \u001b[0;34m=\u001b[0m \u001b[0mQueue\u001b[0m\u001b[0;34m(\u001b[0m\u001b[0;34m)\u001b[0m\u001b[0;34m\u001b[0m\u001b[0m\n",
      "\u001b[0;31mImportError\u001b[0m: cannot import name 'Queue'"
     ]
    }
   ],
   "source": [
    "import os, sys, inspect, io\n",
    "\n",
    "cmd_folder = os.path.realpath(\n",
    "    os.path.dirname(\n",
    "        os.path.abspath(os.path.split(inspect.getfile( inspect.currentframe() ))[0])))\n",
    "\n",
    "if cmd_folder not in sys.path:\n",
    "    sys.path.insert(0, cmd_folder)\n",
    "    \n",
    "from transitions import *\n",
    "from collections import Queue\n",
    "class Optimizer(object):\n",
    "    q_in = Queue()\n",
    "    q_out = Queue()\n",
    "    \n",
    "    def do_work(self, item):\n",
    "        return item + 5\n",
    "    \n",
    "    def on_enter_training(self):\n",
    "        item = self.q_in.get()\n",
    "        self.q_out.put(self.do_work(item))\n",
    "        self.q_in.task_done()\n",
    "        self.trained()\n",
    "        \n",
    "    def on_exit_training(self):\n",
    "        item = self.q_out.get()\n",
    "        print(\"result of training {}\".format(item))\n",
    "        \n",
    "    def on_enter_listening(self):\n",
    "        self.q_in.put(1)\n",
    "        self.heard()\n",
    "        \n",
    "    def is_valid(self):\n",
    "        return True\n",
    "    \n",
    "    def is_not_valid(self):\n",
    "        return False\n",
    "    \n",
    "    def is_also_valid(self):\n",
    "        return True\n",
    "    \n",
    "    # graph object is created by the machine\n",
    "    def show_graph(self, **kwargs):\n",
    "        stream = io.BytesIO()\n",
    "        self.get_graph(**kwargs).draw(stream, prog='dot', format='png')\n",
    "        display(Image(stream.getvalue()))"
   ]
  },
  {
   "cell_type": "code",
   "execution_count": 5,
   "metadata": {},
   "outputs": [
    {
     "ename": "NameError",
     "evalue": "name 'Optimizer' is not defined",
     "output_type": "error",
     "traceback": [
      "\u001b[0;31m---------------------------------------------------------------------\u001b[0m",
      "\u001b[0;31mNameError\u001b[0m                           Traceback (most recent call last)",
      "\u001b[0;32m<ipython-input-5-c3078f9f406a>\u001b[0m in \u001b[0;36m<module>\u001b[0;34m()\u001b[0m\n\u001b[1;32m      8\u001b[0m \u001b[0mstates\u001b[0m\u001b[0;34m=\u001b[0m\u001b[0;34m[\u001b[0m\u001b[0;34m'training'\u001b[0m\u001b[0;34m,\u001b[0m \u001b[0;34m'broadcasting'\u001b[0m\u001b[0;34m,\u001b[0m \u001b[0;34m'listening'\u001b[0m\u001b[0;34m,\u001b[0m \u001b[0;34m'averaging'\u001b[0m\u001b[0;34m]\u001b[0m\u001b[0;34m\u001b[0m\u001b[0m\n\u001b[1;32m      9\u001b[0m \u001b[0;34m\u001b[0m\u001b[0m\n\u001b[0;32m---> 10\u001b[0;31m \u001b[0mmodel\u001b[0m \u001b[0;34m=\u001b[0m \u001b[0mOptimizer\u001b[0m\u001b[0;34m(\u001b[0m\u001b[0;34m)\u001b[0m\u001b[0;34m\u001b[0m\u001b[0m\n\u001b[0m\u001b[1;32m     11\u001b[0m machine = Machine(model=model, \n\u001b[1;32m     12\u001b[0m                        \u001b[0mstates\u001b[0m\u001b[0;34m=\u001b[0m\u001b[0mstates\u001b[0m\u001b[0;34m,\u001b[0m\u001b[0;34m\u001b[0m\u001b[0m\n",
      "\u001b[0;31mNameError\u001b[0m: name 'Optimizer' is not defined"
     ]
    }
   ],
   "source": [
    "transitions = [\n",
    "    { 'trigger': 'work_done', 'source': ['training', 'averaging'], 'dest': 'broadcasting' },\n",
    "    { 'trigger': 'sent', 'source': 'broadcasting', 'dest': 'listening', 'conditions':'is_valid' },\n",
    "    { 'trigger': 'heard', 'source': 'listening', 'dest': 'training', 'unless':'is_not_valid' }\n",
    "#     { 'trigger': 'averaged', 'source': 'averaging', 'dest': 'broadcasting',\n",
    "#       'conditions':['is_valid','is_also_valid'] }\n",
    "]\n",
    "states=['training', 'broadcasting', 'listening', 'averaging']\n",
    "\n",
    "model = Optimizer()\n",
    "machine = Machine(model=model, \n",
    "                       states=states, \n",
    "                       transitions=transitions,\n",
    "                       initial='broadcasting')\n",
    "model.state"
   ]
  },
  {
   "cell_type": "code",
   "execution_count": null,
   "metadata": {},
   "outputs": [],
   "source": []
  },
  {
   "cell_type": "code",
   "execution_count": 6,
   "metadata": {},
   "outputs": [
    {
     "ename": "NameError",
     "evalue": "name 'Queue' is not defined",
     "output_type": "error",
     "traceback": [
      "\u001b[0;31m---------------------------------------------------------------------\u001b[0m",
      "\u001b[0;31mNameError\u001b[0m                           Traceback (most recent call last)",
      "\u001b[0;32m<ipython-input-6-a8bafaee0c60>\u001b[0m in \u001b[0;36m<module>\u001b[0;34m()\u001b[0m\n\u001b[0;32m----> 1\u001b[0;31m \u001b[0;32mclass\u001b[0m \u001b[0mFederatedAveragingOptimizer\u001b[0m\u001b[0;34m(\u001b[0m\u001b[0mMachine\u001b[0m\u001b[0;34m)\u001b[0m\u001b[0;34m:\u001b[0m\u001b[0;34m\u001b[0m\u001b[0m\n\u001b[0m\u001b[1;32m      2\u001b[0m     \u001b[0mq_in\u001b[0m \u001b[0;34m=\u001b[0m \u001b[0mQueue\u001b[0m\u001b[0;34m(\u001b[0m\u001b[0;34m)\u001b[0m\u001b[0;34m\u001b[0m\u001b[0m\n\u001b[1;32m      3\u001b[0m     \u001b[0mq_out\u001b[0m \u001b[0;34m=\u001b[0m \u001b[0mQueue\u001b[0m\u001b[0;34m(\u001b[0m\u001b[0;34m)\u001b[0m\u001b[0;34m\u001b[0m\u001b[0m\n\u001b[1;32m      4\u001b[0m \u001b[0;34m\u001b[0m\u001b[0m\n\u001b[1;32m      5\u001b[0m     \u001b[0;32mdef\u001b[0m \u001b[0mdo_work\u001b[0m\u001b[0;34m(\u001b[0m\u001b[0mself\u001b[0m\u001b[0;34m,\u001b[0m \u001b[0mitem\u001b[0m\u001b[0;34m)\u001b[0m\u001b[0;34m:\u001b[0m\u001b[0;34m\u001b[0m\u001b[0m\n",
      "\u001b[0;32m<ipython-input-6-a8bafaee0c60>\u001b[0m in \u001b[0;36mFederatedAveragingOptimizer\u001b[0;34m()\u001b[0m\n\u001b[1;32m      1\u001b[0m \u001b[0;32mclass\u001b[0m \u001b[0mFederatedAveragingOptimizer\u001b[0m\u001b[0;34m(\u001b[0m\u001b[0mMachine\u001b[0m\u001b[0;34m)\u001b[0m\u001b[0;34m:\u001b[0m\u001b[0;34m\u001b[0m\u001b[0m\n\u001b[0;32m----> 2\u001b[0;31m     \u001b[0mq_in\u001b[0m \u001b[0;34m=\u001b[0m \u001b[0mQueue\u001b[0m\u001b[0;34m(\u001b[0m\u001b[0;34m)\u001b[0m\u001b[0;34m\u001b[0m\u001b[0m\n\u001b[0m\u001b[1;32m      3\u001b[0m     \u001b[0mq_out\u001b[0m \u001b[0;34m=\u001b[0m \u001b[0mQueue\u001b[0m\u001b[0;34m(\u001b[0m\u001b[0;34m)\u001b[0m\u001b[0;34m\u001b[0m\u001b[0m\n\u001b[1;32m      4\u001b[0m \u001b[0;34m\u001b[0m\u001b[0m\n\u001b[1;32m      5\u001b[0m     \u001b[0;32mdef\u001b[0m \u001b[0mdo_work\u001b[0m\u001b[0;34m(\u001b[0m\u001b[0mself\u001b[0m\u001b[0;34m,\u001b[0m \u001b[0mitem\u001b[0m\u001b[0;34m)\u001b[0m\u001b[0;34m:\u001b[0m\u001b[0;34m\u001b[0m\u001b[0m\n",
      "\u001b[0;31mNameError\u001b[0m: name 'Queue' is not defined"
     ]
    }
   ],
   "source": [
    "class FederatedAveragingOptimizer(Machine):\n",
    "    q_in = Queue()\n",
    "    q_out = Queue()\n",
    "    \n",
    "    def do_work(self, item):\n",
    "        return item + 5\n",
    "    \n",
    "    def on_enter_training(self):\n",
    "        item = self.q_in.get()\n",
    "        self.q_out.put(self.do_work(item))\n",
    "        self.q_in.task_done()\n",
    "        self.work_done()\n",
    "        \n",
    "    def on_exit_training(self):\n",
    "        item = self.q_out.get()\n",
    "        print(\"result of training {}\".format(item))\n",
    "        \n",
    "    def on_enter_listening(self):\n",
    "        self.q_in.put(1)\n",
    "        self.heard()\n",
    "        \n",
    "    def is_valid(self):\n",
    "        return True\n",
    "    \n",
    "    def is_not_valid(self):\n",
    "        return False\n",
    "    \n",
    "    def is_also_valid(self):\n",
    "        return True\n",
    "    \n",
    "    def __init__(self):\n",
    "        transitions = [\n",
    "        { 'trigger': 'work_done', 'source': ['training', 'averaging'], 'dest': 'broadcasting' },\n",
    "        { 'trigger': 'sent', 'source': 'broadcasting', 'dest': 'listening', 'conditions':'is_valid' },\n",
    "        { 'trigger': 'heard', 'source': 'listening', 'dest': 'training', 'unless':'is_not_valid' }\n",
    "        #     { 'trigger': 'averaged', 'source': 'averaging', 'dest': 'broadcasting',\n",
    "        #       'conditions':['is_valid','is_also_valid'] }\n",
    "        ]\n",
    "        states=['training', 'broadcasting', 'listening', 'averaging']\n",
    "        Machine.__init__(self, states=states, transitions=transitions, initial='broadcasting')\n",
    "        "
   ]
  },
  {
   "cell_type": "code",
   "execution_count": 7,
   "metadata": {},
   "outputs": [
    {
     "ename": "NameError",
     "evalue": "name 'FederatedAveragingOptimizer' is not defined",
     "output_type": "error",
     "traceback": [
      "\u001b[0;31m---------------------------------------------------------------------\u001b[0m",
      "\u001b[0;31mNameError\u001b[0m                           Traceback (most recent call last)",
      "\u001b[0;32m<ipython-input-7-5a268ab55895>\u001b[0m in \u001b[0;36m<module>\u001b[0;34m()\u001b[0m\n\u001b[0;32m----> 1\u001b[0;31m \u001b[0mfedavg\u001b[0m \u001b[0;34m=\u001b[0m \u001b[0mFederatedAveragingOptimizer\u001b[0m\u001b[0;34m(\u001b[0m\u001b[0;34m)\u001b[0m\u001b[0;34m\u001b[0m\u001b[0m\n\u001b[0m\u001b[1;32m      2\u001b[0m \u001b[0mfedavg\u001b[0m\u001b[0;34m.\u001b[0m\u001b[0mstate\u001b[0m\u001b[0;34m\u001b[0m\u001b[0m\n\u001b[1;32m      3\u001b[0m \u001b[0mfedavg\u001b[0m\u001b[0;34m.\u001b[0m\u001b[0msent\u001b[0m\u001b[0;34m(\u001b[0m\u001b[0;34m)\u001b[0m\u001b[0;34m\u001b[0m\u001b[0m\n",
      "\u001b[0;31mNameError\u001b[0m: name 'FederatedAveragingOptimizer' is not defined"
     ]
    }
   ],
   "source": [
    "fedavg = FederatedAveragingOptimizer()\n",
    "fedavg.state\n",
    "fedavg.sent()"
   ]
  },
  {
   "cell_type": "code",
   "execution_count": 25,
   "metadata": {},
   "outputs": [],
   "source": [
    "class FullyConnectedLayer(Machine):\n",
    "    \n",
    "    def do_averaging(self, event):\n",
    "        self.neural_network += 'trained'\n",
    "        print(self.neural_network)\n",
    "        \n",
    "    def get_model_with_addr(self, model_addr):\n",
    "        return \"hello im a model\"\n",
    "    \n",
    "    def on_enter_training(self, event):\n",
    "        model_addr = event.kwargs.get('model_addr')\n",
    "        self.neural_network = self.get_model_with_addr(model_addr)\n",
    "        print(self.model)\n",
    "        \n",
    "    def on_exit_training(self, event):\n",
    "        print(\"result of training {}\".format(self.neural_network))\n",
    "        \n",
    "    def is_valid(self, event):\n",
    "        return True\n",
    "    \n",
    "    def time_elapsed(self, event):\n",
    "        return self.time >= self.time_threshold\n",
    "    \n",
    "    def is_also_valid(self):\n",
    "        return True\n",
    "    \n",
    "    \n",
    "    def __init__(self):\n",
    "        self.time = 0\n",
    "        self.time_threshold = 2\n",
    "        self.neural_network = False\n",
    "        transitions = [\n",
    "        { 'trigger': 'trained', 'source': 'training', 'dest': 'broadcasting'},\n",
    "        { 'trigger': 'averaged', 'source': 'averaging', 'dest': 'training' },\n",
    "        { 'trigger': 'sent', 'source': 'broadcasting', 'dest': 'listening', 'conditions':'is_valid' },\n",
    "        { 'trigger': 'heard', 'source': 'listening', 'dest': 'averaging', 'conditions':'time_elapsed', 'after':'do_averaging' }\n",
    "        #     { 'trigger': 'averaged', 'source': 'averaging', 'dest': 'broadcasting',\n",
    "        #       'conditions':['is_valid','is_also_valid'] }\n",
    "        ]\n",
    "        states=['listening', 'averaging', 'training', 'broadcasting']\n",
    "        Machine.__init__(self, states=states, transitions=transitions, send_event=True, initial='broadcasting')"
   ]
  },
  {
   "cell_type": "code",
   "execution_count": 26,
   "metadata": {},
   "outputs": [
    {
     "data": {
      "text/plain": [
       "False"
      ]
     },
     "execution_count": 26,
     "metadata": {},
     "output_type": "execute_result"
    }
   ],
   "source": [
    "fclyr = P2POptimizer()\n",
    "fclyr.sent()\n",
    "fclyr.heard(model_addr='0xabc123')"
   ]
  },
  {
   "cell_type": "code",
   "execution_count": 77,
   "metadata": {},
   "outputs": [],
   "source": [
    "from enum import Enum\n",
    "\n",
    "class EventTypes(Enum):\n",
    "    TRAIN = \"TRAIN\"\n",
    "    VALIDATE = \"VALIDATE\"\n",
    "    AVERAGE = \"AVERAGE\"\n",
    "    UNDEFINED = \"UNDEFINED\""
   ]
  },
  {
   "cell_type": "code",
   "execution_count": 68,
   "metadata": {},
   "outputs": [],
   "source": [
    "event = {\"EventType\" : EventTypes.TRAIN.value}"
   ]
  },
  {
   "cell_type": "code",
   "execution_count": 63,
   "metadata": {},
   "outputs": [],
   "source": [
    "# EventTypes(event[\"EventType\"])"
   ]
  },
  {
   "cell_type": "code",
   "execution_count": 64,
   "metadata": {},
   "outputs": [
    {
     "data": {
      "text/plain": [
       "{'EventType': 'TRAIN'}"
      ]
     },
     "execution_count": 64,
     "metadata": {},
     "output_type": "execute_result"
    }
   ],
   "source": [
    "if(event['EventType'] )"
   ]
  },
  {
   "cell_type": "code",
   "execution_count": 1,
   "metadata": {},
   "outputs": [
    {
     "ename": "NameError",
     "evalue": "name 'EventTypes' is not defined",
     "output_type": "error",
     "traceback": [
      "\u001b[0;31m---------------------------------------------------------------------\u001b[0m",
      "\u001b[0;31mNameError\u001b[0m                           Traceback (most recent call last)",
      "\u001b[0;32m<ipython-input-1-3957228f5e0f>\u001b[0m in \u001b[0;36m<module>\u001b[0;34m()\u001b[0m\n\u001b[1;32m     12\u001b[0m \u001b[0;34m\u001b[0m\u001b[0m\n\u001b[1;32m     13\u001b[0m EVENT_TYPE_CALLBACKS = {\n\u001b[0;32m---> 14\u001b[0;31m     \u001b[0mEventTypes\u001b[0m\u001b[0;34m.\u001b[0m\u001b[0mTRAIN\u001b[0m\u001b[0;34m.\u001b[0m\u001b[0mvalue\u001b[0m\u001b[0;34m:\u001b[0m \u001b[0mtrain\u001b[0m\u001b[0;34m,\u001b[0m\u001b[0;34m\u001b[0m\u001b[0m\n\u001b[0m\u001b[1;32m     15\u001b[0m     \u001b[0mEventTypes\u001b[0m\u001b[0;34m.\u001b[0m\u001b[0mVALIDATE\u001b[0m\u001b[0;34m.\u001b[0m\u001b[0mvalue\u001b[0m\u001b[0;34m:\u001b[0m \u001b[0mvalidate\u001b[0m\u001b[0;34m,\u001b[0m\u001b[0;34m\u001b[0m\u001b[0m\n\u001b[1;32m     16\u001b[0m     \u001b[0mEventTypes\u001b[0m\u001b[0;34m.\u001b[0m\u001b[0mAVERAGE\u001b[0m\u001b[0;34m.\u001b[0m\u001b[0mvalue\u001b[0m\u001b[0;34m:\u001b[0m \u001b[0maverage\u001b[0m\u001b[0;34m,\u001b[0m\u001b[0;34m\u001b[0m\u001b[0m\n",
      "\u001b[0;31mNameError\u001b[0m: name 'EventTypes' is not defined"
     ]
    }
   ],
   "source": [
    "def do_nothing(event):\n",
    "    print(\"NOTHING\")\n",
    "\n",
    "def train(event):\n",
    "    print(\"HELLO IT WORKS\")\n",
    "    \n",
    "def validate(event):\n",
    "    print(\"HOW DID I GET HERE\")\n",
    "\n",
    "def average(event):\n",
    "    print(\"AVERAGE\")\n",
    "\n",
    "EVENT_TYPE_CALLBACKS = {\n",
    "    EventTypes.TRAIN.value: train, \n",
    "    EventTypes.VALIDATE.value: validate,\n",
    "    EventTypes.AVERAGE.value: average,\n",
    "    EventTypes.UNDEFINED.value: do_nothing,\n",
    "}\n",
    "\n",
    "def parse(event):\n",
    "    \"\"\"\n",
    "    Parses an event dictionary into a callback.\n",
    "    If the callback is not defined, it does nothing.\n",
    "    \"\"\"\n",
    "    event_type = event.get('EventType', EventTypes.UNDEFINED.value)\n",
    "    callback = EVENT_TYPE_CALLBACKS[EventTypes.UNDEFINED.value]\n",
    "    if event_type in EVENT_TYPE_CALLBACKS:\n",
    "        callback = EVENT_TYPE_CALLBACKS[event_type]\n",
    "    return callback(event)\n",
    "\n",
    "event = {\"EventType\": EventTypes.TRAIN.value}\n",
    "parse(event)"
   ]
  },
  {
   "cell_type": "code",
   "execution_count": 97,
   "metadata": {},
   "outputs": [
    {
     "name": "stdout",
     "output_type": "stream",
     "text": [
      "HELLO IT WORKS\n"
     ]
    }
   ],
   "source": [
    "event = {\"EventType\": EventTypes.TRAIN.value}\n",
    "parse(event)"
   ]
  },
  {
   "cell_type": "code",
   "execution_count": 98,
   "metadata": {},
   "outputs": [
    {
     "name": "stdout",
     "output_type": "stream",
     "text": [
      "HOW DID I GET HERE\n"
     ]
    }
   ],
   "source": [
    "event = {\"EventType\": EventTypes.VALIDATE.value}\n",
    "parse(event)"
   ]
  },
  {
   "cell_type": "code",
   "execution_count": 99,
   "metadata": {},
   "outputs": [
    {
     "name": "stdout",
     "output_type": "stream",
     "text": [
      "AVERAGE\n"
     ]
    }
   ],
   "source": [
    "event = {\"EventType\": EventTypes.AVERAGE.value}\n",
    "parse(event)"
   ]
  },
  {
   "cell_type": "code",
   "execution_count": 100,
   "metadata": {},
   "outputs": [
    {
     "name": "stdout",
     "output_type": "stream",
     "text": [
      "NOTHING\n"
     ]
    }
   ],
   "source": [
    "event = {\"EventType\": \"BAMBOOZLED\"}\n",
    "parse(event)"
   ]
  },
  {
   "cell_type": "code",
   "execution_count": 73,
   "metadata": {},
   "outputs": [],
   "source": [
    "class FederatedAveragingLayer(object):\n",
    "\n",
    "    # Define some states.\n",
    "    states = ['splitting', 'training', 'communicating', 'averaging']\n",
    "    transitions = [\n",
    "        ['failure', ['splitting', 'training', 'communicating', 'averaging'], '='],\n",
    "        ['done_training', 'training', 'communicating'],\n",
    "        ['done_listening', 'communicating', 'averaging'],\n",
    "        ['done_averaging', 'averaging', 'training'],\n",
    "        ['done_splitting', 'splitting', 'training'],\n",
    "    ]\n",
    "    def __init__(self, session_id, train_bound, listen_bound):\n",
    "\n",
    "        # Need to name our Optimizer\n",
    "        self.id = session_id\n",
    "\n",
    "        # What have we accomplished today?\n",
    "        self.training_iterations = 0\n",
    "        self.listen_iterations = 0\n",
    "        self.train_bound = train_bound\n",
    "        self.listen_bound = listen_bound\n",
    "        self.training_history = []\n",
    "\n",
    "        # Initialize the state machine\n",
    "        self.machine = Machine(model=self, \n",
    "                               states=FederatedAveragingLayer.states, \n",
    "                               transitions=FederatedAveragingLayer.transitions, \n",
    "                               initial='training')\n",
    "        self.machine.add_transition('train_iter', 'training', None, after='increment_train_iter')\n",
    "        self.machine.add_transition('listen_iter', '*', None, after='increment_listen_iter')\n",
    "        \n",
    "    def increment_train_iter(self):\n",
    "        self.training_iterations += 1\n",
    "        if self.training_iterations > self.train_bound:\n",
    "            self.done_training()\n",
    "        \n",
    "    def update_journal(self):\n",
    "        \"\"\" Dear Diary, today I saved Mr. Whiskers. Again. \"\"\"\n",
    "        self.kittens_rescued += 1\n",
    "\n",
    "    def is_exhausted(self):\n",
    "        \"\"\" Basically a coin toss. \"\"\"\n",
    "        return random.random() < 0.5\n",
    "\n",
    "    def change_into_super_secret_costume(self):\n",
    "        print(\"Beauty, eh?\")\n",
    "\n",
    "def call(layer):\n",
    "    layer.train_iter()\n",
    "    return layer.state"
   ]
  },
  {
   "cell_type": "code",
   "execution_count": 79,
   "metadata": {},
   "outputs": [],
   "source": [
    "layer = FederatedAveragingLayer(1, 2, 3)"
   ]
  },
  {
   "cell_type": "code",
   "execution_count": 82,
   "metadata": {},
   "outputs": [
    {
     "data": {
      "text/plain": [
       "'communicating'"
      ]
     },
     "execution_count": 82,
     "metadata": {},
     "output_type": "execute_result"
    }
   ],
   "source": [
    "call(layer)"
   ]
  },
  {
   "cell_type": "code",
   "execution_count": 44,
   "metadata": {},
   "outputs": [
    {
     "data": {
      "text/plain": [
       "True"
      ]
     },
     "execution_count": 44,
     "metadata": {},
     "output_type": "execute_result"
    }
   ],
   "source": [
    "layer.train_iter()"
   ]
  },
  {
   "cell_type": "code",
   "execution_count": 45,
   "metadata": {},
   "outputs": [
    {
     "data": {
      "text/plain": [
       "'training'"
      ]
     },
     "execution_count": 45,
     "metadata": {},
     "output_type": "execute_result"
    }
   ],
   "source": [
    "layer.state"
   ]
  },
  {
   "cell_type": "code",
   "execution_count": 46,
   "metadata": {},
   "outputs": [
    {
     "data": {
      "text/plain": [
       "True"
      ]
     },
     "execution_count": 46,
     "metadata": {},
     "output_type": "execute_result"
    }
   ],
   "source": [
    "layer.train_iter()"
   ]
  },
  {
   "cell_type": "code",
   "execution_count": 47,
   "metadata": {},
   "outputs": [
    {
     "data": {
      "text/plain": [
       "'communicating'"
      ]
     },
     "execution_count": 47,
     "metadata": {},
     "output_type": "execute_result"
    }
   ],
   "source": [
    "layer.state"
   ]
  },
  {
   "cell_type": "code",
   "execution_count": 49,
   "metadata": {},
   "outputs": [],
   "source": [
    "from enum import Enum\n",
    "\n",
    "class CommunicationManagerEventTypes(Enum):\n",
    "    '''\n",
    "    Dictionary of events that the Communication Manager might receive from the Optimizer.\n",
    "    The event indicates what state the Optimizer has transitioned to.\n",
    "    This is essentially a 'command' for the Comm. Mgr. so these are all imperatives.\n",
    "    This dictionary has to contain all possible states that an Optimizer can be in.\n",
    "    '''\n",
    "    TRAIN = \"TRAIN\"\n",
    "    COMM = \"COMMUNICATE\"\n",
    "    AVERAGE = \"AVERAGE\"\n",
    "    SPLIT = \"SPLIT\"\n",
    "    WEIGHT = \"WEIGHT\"\n",
    "    # INTERNAL = \"INTERNAL\"\n",
    "    # EXTERNAL = \"EXTERNAL\"\n",
    "    UNDEFINED = \"UNDEFINED\""
   ]
  },
  {
   "cell_type": "code",
   "execution_count": 53,
   "metadata": {},
   "outputs": [
    {
     "data": {
      "text/plain": [
       "'TRAIN'"
      ]
     },
     "execution_count": 53,
     "metadata": {},
     "output_type": "execute_result"
    }
   ],
   "source": [
    "CommunicationManagerEventTypes.TRAIN.name"
   ]
  },
  {
   "cell_type": "code",
   "execution_count": 61,
   "metadata": {},
   "outputs": [],
   "source": [
    "def do_nothing():\n",
    "    pass\n",
    "\n",
    "EVENT_TYPE_CALLBACKS = {\n",
    "\t    CommunicationManagerEventTypes.UNDEFINED.name: do_nothing,\n",
    "\t}"
   ]
  },
  {
   "cell_type": "code",
   "execution_count": 62,
   "metadata": {},
   "outputs": [
    {
     "data": {
      "text/plain": [
       "<function __main__.do_nothing>"
      ]
     },
     "execution_count": 62,
     "metadata": {},
     "output_type": "execute_result"
    }
   ],
   "source": [
    "EVENT_TYPE_CALLBACKS[\"UNDEFINED\"]"
   ]
  },
  {
   "cell_type": "code",
   "execution_count": null,
   "metadata": {},
   "outputs": [],
   "source": []
  }
 ],
 "metadata": {
  "kernelspec": {
   "display_name": "Python 3",
   "language": "python",
   "name": "python3"
  },
  "language_info": {
   "codemirror_mode": {
    "name": "ipython",
    "version": 3
   },
   "file_extension": ".py",
   "mimetype": "text/x-python",
   "name": "python",
   "nbconvert_exporter": "python",
   "pygments_lexer": "ipython3",
   "version": "3.6.4"
  }
 },
 "nbformat": 4,
 "nbformat_minor": 2
}
