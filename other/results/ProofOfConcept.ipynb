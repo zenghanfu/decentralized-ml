{
 "cells": [
  {
   "cell_type": "code",
   "execution_count": 14,
   "metadata": {},
   "outputs": [],
   "source": [
    "\"\"\"Import from parent directory.\"\"\"\n",
    "import os, sys, inspect\n",
    "currentdir = os.path.dirname(os.path.abspath(inspect.getfile(inspect.currentframe())))\n",
    "parentdir = os.path.dirname(currentdir)\n",
    "sys.path.insert(0,parentdir)"
   ]
  },
  {
   "cell_type": "code",
   "execution_count": 8,
   "metadata": {},
   "outputs": [],
   "source": [
    "'''\n",
    "We'll start off by showing how our client extracts the relevant information from\n",
    "a data provider.\n",
    "'''\n",
    "from agora_dp import post_dataset\n",
    "post_dataset(\"path/to/iot/data\", \"iot\")"
   ]
  },
  {
   "cell_type": "code",
   "execution_count": null,
   "metadata": {},
   "outputs": [],
   "source": [
    "'''\n",
    "Now we'll see how a model developer would view the information.\n",
    "'''\n",
    "from agora_mt import get_dataset\n",
    "\n",
    "get_dataset(\"iot\")"
   ]
  },
  {
   "cell_type": "code",
   "execution_count": 15,
   "metadata": {},
   "outputs": [
    {
     "ename": "ModuleNotFoundError",
     "evalue": "No module named 'blockchain'",
     "output_type": "error",
     "traceback": [
      "\u001b[0;31m---------------------------------------------------------------------------\u001b[0m",
      "\u001b[0;31mModuleNotFoundError\u001b[0m                       Traceback (most recent call last)",
      "\u001b[0;32m<ipython-input-15-c657caf10485>\u001b[0m in \u001b[0;36m<module>\u001b[0;34m()\u001b[0m\n\u001b[1;32m      4\u001b[0m \u001b[0mLet\u001b[0m\u001b[0;31m'\u001b[0m\u001b[0ms\u001b[0m \u001b[0mrun\u001b[0m \u001b[0manother\u001b[0m \u001b[0mdata\u001b[0m \u001b[0mprovider\u001b[0m \u001b[0mhere\u001b[0m \u001b[0mso\u001b[0m \u001b[0mwe\u001b[0m \u001b[0mcan\u001b[0m \u001b[0msee\u001b[0m \u001b[0mhow\u001b[0m \u001b[0mit\u001b[0m \u001b[0mbehaves\u001b[0m\u001b[0;34m.\u001b[0m\u001b[0;34m\u001b[0m\u001b[0m\n\u001b[1;32m      5\u001b[0m '''\n\u001b[0;32m----> 6\u001b[0;31m \u001b[0;32mfrom\u001b[0m \u001b[0mcore\u001b[0m\u001b[0;34m.\u001b[0m\u001b[0mlistener\u001b[0m \u001b[0;32mimport\u001b[0m \u001b[0mListenerEthereum\u001b[0m\u001b[0;34m\u001b[0m\u001b[0m\n\u001b[0m\u001b[1;32m      7\u001b[0m \u001b[0;34m\u001b[0m\u001b[0m\n\u001b[1;32m      8\u001b[0m \u001b[0mlistener\u001b[0m \u001b[0;34m=\u001b[0m \u001b[0mListenerEthereum\u001b[0m\u001b[0;34m(\u001b[0m\u001b[0;34m)\u001b[0m\u001b[0;34m\u001b[0m\u001b[0m\n",
      "\u001b[0;32m~/github-downloads/decentralized-ml/core/listener.py\u001b[0m in \u001b[0;36m<module>\u001b[0;34m()\u001b[0m\n\u001b[1;32m      7\u001b[0m \u001b[0;34m\u001b[0m\u001b[0m\n\u001b[1;32m      8\u001b[0m \u001b[0;32mfrom\u001b[0m \u001b[0meth_utils\u001b[0m \u001b[0;32mimport\u001b[0m \u001b[0mis_address\u001b[0m\u001b[0;34m\u001b[0m\u001b[0m\n\u001b[0;32m----> 9\u001b[0;31m \u001b[0;32mfrom\u001b[0m \u001b[0mblockchain\u001b[0m\u001b[0;34m.\u001b[0m\u001b[0mblockchain_utils\u001b[0m \u001b[0;32mimport\u001b[0m \u001b[0;34m*\u001b[0m\u001b[0;34m\u001b[0m\u001b[0m\n\u001b[0m\u001b[1;32m     10\u001b[0m \u001b[0;32mfrom\u001b[0m \u001b[0mblockchain\u001b[0m\u001b[0;34m.\u001b[0m\u001b[0mipfs_utils\u001b[0m \u001b[0;32mimport\u001b[0m \u001b[0;34m*\u001b[0m\u001b[0;34m\u001b[0m\u001b[0m\n\u001b[1;32m     11\u001b[0m \u001b[0;34m\u001b[0m\u001b[0m\n",
      "\u001b[0;31mModuleNotFoundError\u001b[0m: No module named 'blockchain'"
     ]
    }
   ],
   "source": [
    "'''\n",
    "For this proof of concept, our data providers are running on AWS.\n",
    "But running a data provider is very easy, as it's a simple Unix service.\n",
    "Let's run another data provider here so we can see how it behaves.\n",
    "'''\n",
    "from core.listener import ListenerEthereum\n",
    "\n",
    "listener = ListenerEthereum()"
   ]
  },
  {
   "cell_type": "code",
   "execution_count": 13,
   "metadata": {},
   "outputs": [],
   "source": [
    "'''\n",
    "Let's make an appropriate model for this data.\n",
    "'''\n",
    "import keras\n",
    "from keras.models import Sequential\n",
    "from keras.layers import LSTM, Dense\n",
    "from models.generic_model import GenericKerasModel\n",
    "\n",
    "class KerasLSTM(GenericKerasModel):\n",
    "    def __init__(self, is_training=False):\n",
    "        # self.n_input = 784\n",
    "        # self.n_hidden1 = 200\n",
    "        # self.n_hidden2 = 200\n",
    "        # self.n_classes = 10\n",
    "        self.is_training = is_training\n",
    "        self.model = self.build_model()\n",
    "        if is_training:\n",
    "            self.compile_model()\n",
    "\n",
    "    def build_model(self):\n",
    "        model = Sequential()\n",
    "        model.add(LSTM(160, input_shape = (1, 686), return_sequences=True))\n",
    "        model.add(LSTM(200))\n",
    "        model.add((Dense(1)))\n",
    "        model.summary()\n",
    "        return model\n",
    "\n",
    "    def compile_model(self):\n",
    "        self.model.compile(loss='mean_squared_error', optimizer='adam', metrics=['mape'])"
   ]
  },
  {
   "cell_type": "code",
   "execution_count": null,
   "metadata": {},
   "outputs": [],
   "source": [
    "from core.developer import DMLDeveloper\n",
    "\n",
    "model = KerasLSTM(is_training=True).model\n",
    "developer = DMLDeveloper()\n",
    "# developer.checkBalance()\n",
    "developer.deploy_with_model(model)\n",
    "developer.update_weights(model)"
   ]
  }
 ],
 "metadata": {
  "kernelspec": {
   "display_name": "Python 3",
   "language": "python",
   "name": "python3"
  },
  "language_info": {
   "codemirror_mode": {
    "name": "ipython",
    "version": 3
   },
   "file_extension": ".py",
   "mimetype": "text/x-python",
   "name": "python",
   "nbconvert_exporter": "python",
   "pygments_lexer": "ipython3",
   "version": "3.6.4"
  }
 },
 "nbformat": 4,
 "nbformat_minor": 2
}
