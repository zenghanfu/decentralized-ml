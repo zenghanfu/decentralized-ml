{
 "cells": [
  {
   "cell_type": "code",
   "execution_count": 2,
   "metadata": {},
   "outputs": [],
   "source": [
    "\"\"\"Import from parent directory.\"\"\"\n",
    "import os\n",
    "import sys\n",
    "module_path = os.path.abspath(os.path.join('..'))\n",
    "if module_path not in sys.path: sys.path.append(module_path)"
   ]
  },
  {
   "cell_type": "code",
   "execution_count": 6,
   "metadata": {},
   "outputs": [
    {
     "data": {
      "text/plain": [
       "\"\\nWe'll start off by showing how our client extracts the relevant information from\\na data provider.\\n\""
      ]
     },
     "execution_count": 6,
     "metadata": {},
     "output_type": "execute_result"
    }
   ],
   "source": [
    "'''\n",
    "We'll start off by showing how our client extracts the relevant information from\n",
    "a data provider.\n",
    "'''\n",
    "from agora_dp import post_dataset\n",
    "post_dataset(\"path/to/iot/data\", \"iot\")"
   ]
  },
  {
   "cell_type": "code",
   "execution_count": 1,
   "metadata": {},
   "outputs": [
    {
     "data": {
      "text/plain": [
       "'test123'"
      ]
     },
     "execution_count": 1,
     "metadata": {},
     "output_type": "execute_result"
    }
   ],
   "source": [
    "'''\n",
    "Now we'll see how a model developer would view the information.\n",
    "'''\n",
    "import agora_mt as amt\n",
    "amt.get_dataset(\"iot\")"
   ]
  },
  {
   "cell_type": "code",
   "execution_count": null,
   "metadata": {},
   "outputs": [],
   "source": [
    "'''\n",
    "For this proof of concept, our data providers are running on AWS.\n",
    "But running a data provider is very easy, as it's a simple Unix service.\n",
    "Let's peek inside the classes which make up the Unix service to see how it behaves in more detail.\n",
    "'''\n",
    "from core.listener import DMLListener\n",
    "config = {\n",
    "  \"dataset_path\": \"datasets/power\",\n",
    "  \"scheduler_config\": {\n",
    "    \"frequency_in_mins\": 1,\n",
    "    \"num_processes\": 4\n",
    "  },\n",
    "  \"runner_config\": {\n",
    "    \"weights_directory\": \"weights\"\n",
    "  }\n",
    "}\n",
    "\n",
    "listener = DMLListener(config)"
   ]
  },
  {
   "cell_type": "code",
   "execution_count": null,
   "metadata": {},
   "outputs": [],
   "source": [
    "'''\n",
    "Let's make an appropriate model for this data.\n",
    "'''\n",
    "import keras\n",
    "from keras.models import Sequential\n",
    "from keras.layers import LSTM, Dense\n",
    "from models.generic_model import GenericKerasModel\n",
    "\n",
    "class KerasLSTM(GenericKerasModel):\n",
    "    def __init__(self, is_training=False):\n",
    "        self.is_training = is_training\n",
    "        self.model = self.build_model()\n",
    "        if is_training:\n",
    "            self.compile_model()\n",
    "\n",
    "    def build_model(self):\n",
    "        model = Sequential()\n",
    "        model.add(LSTM(160, input_shape = (1, 686), return_sequences=True))\n",
    "        model.add(LSTM(200))\n",
    "        model.add((Dense(1)))\n",
    "        model.summary()\n",
    "        return model\n",
    "\n",
    "    def compile_model(self):\n",
    "        self.model.compile(loss='mean_squared_error', optimizer='adam', metrics=['mape'])"
   ]
  },
  {
   "cell_type": "code",
   "execution_count": null,
   "metadata": {},
   "outputs": [],
   "source": [
    "from core.developer import DMLDeveloper\n",
    "\n",
    "model = KerasLSTM(is_training=True).model\n",
    "developer = DMLDeveloper()\n",
    "# developer.checkBalance()\n",
    "developer.deploy_with_model(model)"
   ]
  },
  {
   "cell_type": "code",
   "execution_count": null,
   "metadata": {},
   "outputs": [],
   "source": [
    "'''\n",
    "That's it! Very simply, we've trained a model over decentralized datasets.\n",
    "We haven't specified any stopping conditions, so this model will only train for 1 cycle.\n",
    "'''"
   ]
  }
 ],
 "metadata": {
  "kernelspec": {
   "display_name": "Python 3",
   "language": "python",
   "name": "python3"
  },
  "language_info": {
   "codemirror_mode": {
    "name": "ipython",
    "version": 3
   },
   "file_extension": ".py",
   "mimetype": "text/x-python",
   "name": "python",
   "nbconvert_exporter": "python",
   "pygments_lexer": "ipython3",
   "version": "3.6.4"
  }
 },
 "nbformat": 4,
 "nbformat_minor": 2
}
